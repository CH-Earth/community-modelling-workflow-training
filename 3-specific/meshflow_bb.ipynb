{
 "cells": [
  {
   "cell_type": "markdown",
   "id": "152c4a20-6d14-4c15-b0f3-7ce80791dfae",
   "metadata": {},
   "source": [
    "# Build `MESH` Model Setup for the Bow River at Banff"
   ]
  },
  {
   "cell_type": "markdown",
   "id": "16e19748-8002-484c-883f-7498a5dcbe34",
   "metadata": {},
   "source": [
    "We use the `MESHFlow` Python package to build a `MESH` model setup for the Bow River at Banff."
   ]
  },
  {
   "cell_type": "markdown",
   "id": "0970e786-7819-46b1-8862-1a114a320244",
   "metadata": {},
   "source": [
    "It's also better to keep the geospatial fabric files next to the \"agnostic\" step's outputs:"
   ]
  },
  {
   "cell_type": "code",
   "execution_count": null,
   "id": "fbe30535-0e4e-4854-9220-6f03e23f73e1",
   "metadata": {},
   "outputs": [],
   "source": [
    "!cp -r ../1-geofabric/bow-at-banff-geofabric/ /home/kasra545/scratch/bb-models/geofabric-outputs/"
   ]
  },
  {
   "cell_type": "markdown",
   "id": "dd6824ef-56fc-45dc-8d8b-7a7aa36167b1",
   "metadata": {},
   "source": [
    "Let's start by importing the necessary libraries:"
   ]
  },
  {
   "cell_type": "code",
   "execution_count": null,
   "id": "483fac00-27c6-4d77-bccb-81b2c1af3dea",
   "metadata": {},
   "outputs": [],
   "source": [
    "# import necessary libraries\n",
    "import meshflow # version v0.1.0-dev1\n",
    "\n",
    "import os # python 3.10.2"
   ]
  },
  {
   "cell_type": "markdown",
   "id": "7153ed66-729c-4fb2-b656-bff3130e3f86",
   "metadata": {},
   "source": [
    "Now, let's provide necessary information to set up the `MESH` model:"
   ]
  },
  {
   "cell_type": "code",
   "execution_count": null,
   "id": "bbc55dd9-9083-4367-b092-5ee8562f47af",
   "metadata": {
    "tags": []
   },
   "outputs": [],
   "source": [
    "# main work path - modify\n",
    "work_path = '/home/kasra545/scratch/bb-models/'\n",
    "\n",
    "# using meshflow==v0.1.0-dev1\n",
    "# modify each segment to match your settings\n",
    "config = {\n",
    "    'riv': os.path.join(work_path, 'geofabric', 'bb_rivers.shp'),\n",
    "    'cat': os.path.join(work_path, 'geofabric', 'bb_subbasins.shp'),\n",
    "    'landcover': os.path.join(work_path, 'gistool-outputs', 'bb_model_stats_NA_NALCMS_landcover_2015v2_30m.csv'),\n",
    "    'forcing_files': os.path.join(work_path, 'easymore-outputs'),\n",
    "    'forcing_vars': [ # does the variable list, match those of the \"agnostic\" step?\n",
    "        \"RDRS_v2.1_P_P0_SFC\",\n",
    "        \"RDRS_v2.1_P_HU_09944\",\n",
    "        \"RDRS_v2.1_P_TT_09944\",\n",
    "        \"RDRS_v2.1_P_UVC_09944\",\n",
    "        \"RDRS_v2.1_A_PR0_SFC\",\n",
    "        \"RDRS_v2.1_P_FB_SFC\",\n",
    "        \"RDRS_v2.1_P_FI_SFC\",\n",
    "    ],\n",
    "    'forcing_units': { # Here, enter RDRS's original variable units\n",
    "        'RDRS_v2.1_P_P0_SFC': 'millibar',\n",
    "        'RDRS_v2.1_P_HU_09944': 'kg/kg',\n",
    "        'RDRS_v2.1_P_TT_09944': 'celsius',\n",
    "        'RDRS_v2.1_P_UVC_09944': 'knot',\n",
    "        'RDRS_v2.1_A_PR0_SFC': 'm/hr',\n",
    "        'RDRS_v2.1_P_FB_SFC': 'W/m^2',\n",
    "        'RDRS_v2.1_P_FI_SFC': 'W/m^2',\n",
    "    },\n",
    "    'forcing_to_units': { # And here, the units that MESH needs to read\n",
    "         'RDRS_v2.1_P_UVC_09944': 'm/s',\n",
    "         'RDRS_v2.1_P_FI_SFC': 'W/m^2',\n",
    "         'RDRS_v2.1_P_FB_SFC': 'W/m^2',\n",
    "         'RDRS_v2.1_A_PR0_SFC': 'mm/s',\n",
    "         'RDRS_v2.1_P_P0_SFC': 'pascal',\n",
    "         'RDRS_v2.1_P_TT_09944': 'kelvin',\n",
    "         'RDRS_v2.1_P_HU_09944': 'kg/kg',\n",
    "    },\n",
    "    'main_id': 'COMID', # what is the main ID of each river segment? Column name in the `cat` Shapefile\n",
    "    'ds_main_id': 'NextDownID', # what is the downstream segment ID for each river segment? ditto.\n",
    "    'landcover_classes': { # these are the classes defined for NALCMS-Landsat 2015 dataset. Is this accurate?\n",
    "        0: 'Unknown',\n",
    "        1: 'Temperate or sub-polar needleleaf forest',\n",
    "        2: 'Sub-polar taiga needleleaf forest',\n",
    "        3: 'Tropical or sub-tropical broadleaf evergreen forest',\n",
    "        4: 'Tropical or sub-tropical broadleaf deciduous forest',\n",
    "        5: 'Temperate or sub-polar broadleaf deciduous forest',\n",
    "        6: 'Mixed forest',\n",
    "        7: 'Tropical or sub-tropical shrubland',\n",
    "        8: 'Temperate or sub-polar shrubland',\n",
    "        9: 'Tropical or sub-tropical grassland',\n",
    "        10: 'Temperate or sub-polar grassland',\n",
    "        11: 'Sub-polar or polar shrubland-lichen-moss',\n",
    "        12: 'Sub-polar or polar grassland-lichen-moss',\n",
    "        13: 'Sub-polar or polar barren-lichen-moss',\n",
    "        14: 'Wetland',\n",
    "        15: 'Cropland',\n",
    "        16: 'Barren lands',\n",
    "        17: 'Urban',\n",
    "        18: 'Water',\n",
    "        19: 'Snow and Ice',\n",
    "    },\n",
    "    'ddb_vars': { # the stuff that MESH needs: slope, river length, etc... Let me know if there is any issues here!\n",
    "        'slope': 'ChnlSlope',\n",
    "        'lengthkm': 'ChnlLength',\n",
    "        'Rank': 'Rank',\n",
    "        'Next': 'Next',\n",
    "        'landcover': 'GRU',\n",
    "        'unitarea': 'GridArea',\n",
    "        'landcover_names': 'LandUse',\n",
    "    },\n",
    "    'ddb_units': {\n",
    "        'ChnlSlope': 'm/m',\n",
    "        'ChnlLength': 'km', # is it in km or m? Please check the units of the Shapefile you created!\n",
    "        'Rank': 'dimensionless',\n",
    "        'Next': 'dimensionless',\n",
    "        'GRU': 'dimensionless',\n",
    "        'GridArea': 'km^2', # what was the unit of the GridArea, or Shape_Area in the `catchments` Shapefile?\n",
    "        'LandUse': 'dimensionless',\n",
    "    },\n",
    "    'ddb_to_units': {\n",
    "        'ChnlSlope': 'm/m',\n",
    "        'ChnlLength': 'm', # This is what MESH needs, no need to change.\n",
    "        'Rank': 'dimensionless',\n",
    "        'Next': 'dimensionless',\n",
    "        'GRU': 'dimensionless',\n",
    "        'GridArea': 'm^2', # This is what MESH needs, no need to change.\n",
    "        'LandUse': 'dimensionless',\n",
    "    },\n",
    "    'ddb_min_values': {\n",
    "        'ChnlSlope': 1e-10, # in case there are 0s in the `rivers` Shapefile, we need minimums for certain variables\n",
    "        'ChnlLength': 1e-3,\n",
    "        'GridArea': 1e-3,\n",
    "    },\n",
    "    'gru_dim': 'NGRU', # change to `NGRU` for 'MESH>=r1860', keep for 'MESH<=1860', for example for r1813.\n",
    "    'hru_dim': 'subbasin',\n",
    "    'outlet_value': -9999,\n",
    "}"
   ]
  },
  {
   "cell_type": "markdown",
   "id": "6f3349f9-a9de-46cd-a997-a0edcb4e4a30",
   "metadata": {},
   "source": [
    "We can build an \"instance\" of the workflow class:"
   ]
  },
  {
   "cell_type": "code",
   "execution_count": null,
   "id": "c58c6f35-532c-4477-a0d6-d3fdbfa78f2d",
   "metadata": {
    "tags": []
   },
   "outputs": [],
   "source": [
    "exp1 = meshflow.MESHWorkflow(**config)"
   ]
  },
  {
   "cell_type": "markdown",
   "id": "6f9a2574-0b01-4131-abff-d7f338816ad7",
   "metadata": {},
   "source": [
    "And, we can run it using:"
   ]
  },
  {
   "cell_type": "code",
   "execution_count": null,
   "id": "3ac7f71b-2f09-460a-87f1-fa41b98aaa9b",
   "metadata": {},
   "outputs": [],
   "source": [
    "exp1.run()"
   ]
  },
  {
   "cell_type": "markdown",
   "id": "3bb215c8-45e4-49f0-8cab-07b71298d436",
   "metadata": {},
   "source": [
    "Once the run is finished, we can checkout the forcing and drainage database file:"
   ]
  },
  {
   "cell_type": "code",
   "execution_count": null,
   "id": "8c90482c-72af-46c8-a8bf-0d79c8560b39",
   "metadata": {},
   "outputs": [],
   "source": [
    "exp1.forcing"
   ]
  },
  {
   "cell_type": "code",
   "execution_count": null,
   "id": "3924ad83-e16e-43c1-9ce3-967e363348b1",
   "metadata": {},
   "outputs": [],
   "source": [
    "exp1.ddb"
   ]
  },
  {
   "cell_type": "code",
   "execution_count": null,
   "id": "0591dbd9-75f1-44bb-bd85-f0516be84b84",
   "metadata": {},
   "outputs": [],
   "source": [
    "# create a directory for MESH setup\n",
    "try:\n",
    "    os.makedirs('/home/kasra545/scratch/bb-models/MESH-bow-at-banff')\n",
    "except FileExistsError:\n",
    "    pass\n",
    "\n",
    "# saving drainage database and forcing files\n",
    "exp1.save('/home/kasra545/scratch/bb-models/MESH-bow-at-banff/')"
   ]
  },
  {
   "cell_type": "markdown",
   "id": "0ac05b78-4c74-466f-918a-74c52e5290e8",
   "metadata": {},
   "source": [
    "Now that the two important files are built, we can copy a series of setting files into the output path:"
   ]
  },
  {
   "cell_type": "code",
   "execution_count": null,
   "id": "c4005b61-7d06-4d7f-ac97-2e941d1373b6",
   "metadata": {},
   "outputs": [],
   "source": [
    "!cp -r setting_files/* /home/kasra545/scratch/bb-models/MESH-bow-at-banff/\n",
    "!mkdir -p /home/kasra545/scratch/bb-models/MESH-bow-at-banff/resutlts/"
   ]
  },
  {
   "cell_type": "markdown",
   "id": "6deca0e6-4195-4671-a66c-c625f43d2c1d",
   "metadata": {},
   "source": [
    "____"
   ]
  },
  {
   "cell_type": "markdown",
   "id": "6e8d7bce-f674-4239-a0d6-b2816ef2dcd8",
   "metadata": {},
   "source": [
    "If there is any issue, open a ticket on [MESHFlow's GitHub Webpage](https://github.com/kasra-keshavarz/meshflow/issues). Once this Notebook runs, then have the setting files along with a `MESH` executable all in the `MESH-smm` directory. Please be mindful of the settings, and assure the settings are all accurate to run `MESH` properly."
   ]
  }
 ],
 "metadata": {
  "kernelspec": {
   "display_name": "scienv",
   "language": "python",
   "name": "scienv"
  },
  "language_info": {
   "codemirror_mode": {
    "name": "ipython",
    "version": 3
   },
   "file_extension": ".py",
   "mimetype": "text/x-python",
   "name": "python",
   "nbconvert_exporter": "python",
   "pygments_lexer": "ipython3",
   "version": "3.10.2"
  }
 },
 "nbformat": 4,
 "nbformat_minor": 5
}
